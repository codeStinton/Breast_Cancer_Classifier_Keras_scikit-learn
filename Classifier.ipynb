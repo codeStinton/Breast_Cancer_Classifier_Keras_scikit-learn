{
 "cells": [
  {
   "cell_type": "code",
   "execution_count": 79,
   "id": "036e3866",
   "metadata": {},
   "outputs": [],
   "source": [
    "# Imports\n",
    "\n",
    "import pandas as pd\n",
    "\n",
    "from sklearn.model_selection import train_test_split\n",
    "from sklearn.metrics import confusion_matrix\n",
    "from sklearn.metrics import accuracy_score\n",
    "from sklearn.metrics import precision_score\n",
    "from sklearn.tree import DecisionTreeClassifier\n",
    "\n",
    "\n",
    "from tensorflow.keras.models import Sequential\n",
    "from tensorflow.keras.layers import Dense\n",
    "\n",
    "\n"
   ]
  },
  {
   "cell_type": "code",
   "execution_count": 80,
   "id": "c3a9fd16",
   "metadata": {},
   "outputs": [
    {
     "data": {
      "text/html": [
       "<div>\n",
       "<style scoped>\n",
       "    .dataframe tbody tr th:only-of-type {\n",
       "        vertical-align: middle;\n",
       "    }\n",
       "\n",
       "    .dataframe tbody tr th {\n",
       "        vertical-align: top;\n",
       "    }\n",
       "\n",
       "    .dataframe thead th {\n",
       "        text-align: right;\n",
       "    }\n",
       "</style>\n",
       "<table border=\"1\" class=\"dataframe\">\n",
       "  <thead>\n",
       "    <tr style=\"text-align: right;\">\n",
       "      <th></th>\n",
       "      <th>id</th>\n",
       "      <th>diagnosis</th>\n",
       "      <th>radius_mean</th>\n",
       "      <th>texture_mean</th>\n",
       "      <th>perimeter_mean</th>\n",
       "      <th>area_mean</th>\n",
       "      <th>smoothness_mean</th>\n",
       "      <th>compactness_mean</th>\n",
       "      <th>concavity_mean</th>\n",
       "      <th>concave points_mean</th>\n",
       "      <th>...</th>\n",
       "      <th>radius_worst</th>\n",
       "      <th>texture_worst</th>\n",
       "      <th>perimeter_worst</th>\n",
       "      <th>area_worst</th>\n",
       "      <th>smoothness_worst</th>\n",
       "      <th>compactness_worst</th>\n",
       "      <th>concavity_worst</th>\n",
       "      <th>concave points_worst</th>\n",
       "      <th>symmetry_worst</th>\n",
       "      <th>fractal_dimension_worst</th>\n",
       "    </tr>\n",
       "  </thead>\n",
       "  <tbody>\n",
       "    <tr>\n",
       "      <th>0</th>\n",
       "      <td>842302</td>\n",
       "      <td>1</td>\n",
       "      <td>0.440722</td>\n",
       "      <td>0.066348</td>\n",
       "      <td>0.459114</td>\n",
       "      <td>0.307026</td>\n",
       "      <td>0.495506</td>\n",
       "      <td>0.656922</td>\n",
       "      <td>0.585950</td>\n",
       "      <td>0.609261</td>\n",
       "      <td>...</td>\n",
       "      <td>0.515825</td>\n",
       "      <td>0.154800</td>\n",
       "      <td>3.511479</td>\n",
       "      <td>0.377441</td>\n",
       "      <td>0.500818</td>\n",
       "      <td>0.515936</td>\n",
       "      <td>0.473842</td>\n",
       "      <td>0.760023</td>\n",
       "      <td>0.498838</td>\n",
       "      <td>0.365267</td>\n",
       "    </tr>\n",
       "    <tr>\n",
       "      <th>1</th>\n",
       "      <td>842517</td>\n",
       "      <td>1</td>\n",
       "      <td>0.532384</td>\n",
       "      <td>0.254064</td>\n",
       "      <td>0.511948</td>\n",
       "      <td>0.419623</td>\n",
       "      <td>0.276900</td>\n",
       "      <td>0.158245</td>\n",
       "      <td>0.169674</td>\n",
       "      <td>0.290631</td>\n",
       "      <td>...</td>\n",
       "      <td>0.505257</td>\n",
       "      <td>0.276810</td>\n",
       "      <td>2.993739</td>\n",
       "      <td>0.364731</td>\n",
       "      <td>0.318121</td>\n",
       "      <td>0.132050</td>\n",
       "      <td>0.160809</td>\n",
       "      <td>0.532646</td>\n",
       "      <td>0.223129</td>\n",
       "      <td>0.219488</td>\n",
       "    </tr>\n",
       "    <tr>\n",
       "      <th>2</th>\n",
       "      <td>84300903</td>\n",
       "      <td>1</td>\n",
       "      <td>0.501119</td>\n",
       "      <td>0.342461</td>\n",
       "      <td>0.496778</td>\n",
       "      <td>0.377009</td>\n",
       "      <td>0.438354</td>\n",
       "      <td>0.361917</td>\n",
       "      <td>0.385426</td>\n",
       "      <td>0.529738</td>\n",
       "      <td>...</td>\n",
       "      <td>0.466779</td>\n",
       "      <td>0.319353</td>\n",
       "      <td>2.867314</td>\n",
       "      <td>0.314899</td>\n",
       "      <td>0.416131</td>\n",
       "      <td>0.322711</td>\n",
       "      <td>0.299787</td>\n",
       "      <td>0.695876</td>\n",
       "      <td>0.351674</td>\n",
       "      <td>0.212462</td>\n",
       "    </tr>\n",
       "    <tr>\n",
       "      <th>3</th>\n",
       "      <td>84348301</td>\n",
       "      <td>1</td>\n",
       "      <td>0.207305</td>\n",
       "      <td>0.320362</td>\n",
       "      <td>0.222569</td>\n",
       "      <td>0.093993</td>\n",
       "      <td>0.652024</td>\n",
       "      <td>0.672712</td>\n",
       "      <td>0.471337</td>\n",
       "      <td>0.435719</td>\n",
       "      <td>...</td>\n",
       "      <td>0.232116</td>\n",
       "      <td>0.338818</td>\n",
       "      <td>1.791098</td>\n",
       "      <td>0.084642</td>\n",
       "      <td>0.727287</td>\n",
       "      <td>0.676783</td>\n",
       "      <td>0.457202</td>\n",
       "      <td>0.737400</td>\n",
       "      <td>0.802252</td>\n",
       "      <td>0.629210</td>\n",
       "    </tr>\n",
       "    <tr>\n",
       "      <th>4</th>\n",
       "      <td>84358402</td>\n",
       "      <td>1</td>\n",
       "      <td>0.522436</td>\n",
       "      <td>0.166938</td>\n",
       "      <td>0.523456</td>\n",
       "      <td>0.409576</td>\n",
       "      <td>0.377955</td>\n",
       "      <td>0.293993</td>\n",
       "      <td>0.386598</td>\n",
       "      <td>0.431991</td>\n",
       "      <td>...</td>\n",
       "      <td>0.438868</td>\n",
       "      <td>0.141556</td>\n",
       "      <td>2.861294</td>\n",
       "      <td>0.287864</td>\n",
       "      <td>0.382826</td>\n",
       "      <td>0.146797</td>\n",
       "      <td>0.266241</td>\n",
       "      <td>0.465349</td>\n",
       "      <td>0.165634</td>\n",
       "      <td>0.159771</td>\n",
       "    </tr>\n",
       "    <tr>\n",
       "      <th>...</th>\n",
       "      <td>...</td>\n",
       "      <td>...</td>\n",
       "      <td>...</td>\n",
       "      <td>...</td>\n",
       "      <td>...</td>\n",
       "      <td>...</td>\n",
       "      <td>...</td>\n",
       "      <td>...</td>\n",
       "      <td>...</td>\n",
       "      <td>...</td>\n",
       "      <td>...</td>\n",
       "      <td>...</td>\n",
       "      <td>...</td>\n",
       "      <td>...</td>\n",
       "      <td>...</td>\n",
       "      <td>...</td>\n",
       "      <td>...</td>\n",
       "      <td>...</td>\n",
       "      <td>...</td>\n",
       "      <td>...</td>\n",
       "      <td>...</td>\n",
       "    </tr>\n",
       "    <tr>\n",
       "      <th>564</th>\n",
       "      <td>926424</td>\n",
       "      <td>1</td>\n",
       "      <td>0.567556</td>\n",
       "      <td>0.371418</td>\n",
       "      <td>0.559550</td>\n",
       "      <td>0.472630</td>\n",
       "      <td>0.447446</td>\n",
       "      <td>0.251634</td>\n",
       "      <td>0.476218</td>\n",
       "      <td>0.575298</td>\n",
       "      <td>...</td>\n",
       "      <td>0.517722</td>\n",
       "      <td>0.336812</td>\n",
       "      <td>3.140231</td>\n",
       "      <td>0.379055</td>\n",
       "      <td>0.399954</td>\n",
       "      <td>0.151846</td>\n",
       "      <td>0.273363</td>\n",
       "      <td>0.634593</td>\n",
       "      <td>0.120353</td>\n",
       "      <td>0.132304</td>\n",
       "    </tr>\n",
       "    <tr>\n",
       "      <th>565</th>\n",
       "      <td>926682</td>\n",
       "      <td>1</td>\n",
       "      <td>0.516751</td>\n",
       "      <td>0.520270</td>\n",
       "      <td>0.503055</td>\n",
       "      <td>0.397104</td>\n",
       "      <td>0.361719</td>\n",
       "      <td>0.220304</td>\n",
       "      <td>0.281162</td>\n",
       "      <td>0.405525</td>\n",
       "      <td>...</td>\n",
       "      <td>0.470030</td>\n",
       "      <td>0.574611</td>\n",
       "      <td>2.917483</td>\n",
       "      <td>0.319337</td>\n",
       "      <td>0.283866</td>\n",
       "      <td>0.136538</td>\n",
       "      <td>0.213991</td>\n",
       "      <td>0.466208</td>\n",
       "      <td>0.196616</td>\n",
       "      <td>0.108983</td>\n",
       "    </tr>\n",
       "    <tr>\n",
       "      <th>566</th>\n",
       "      <td>926954</td>\n",
       "      <td>1</td>\n",
       "      <td>0.391338</td>\n",
       "      <td>0.515952</td>\n",
       "      <td>0.383265</td>\n",
       "      <td>0.257518</td>\n",
       "      <td>0.275666</td>\n",
       "      <td>0.217547</td>\n",
       "      <td>0.180627</td>\n",
       "      <td>0.219599</td>\n",
       "      <td>...</td>\n",
       "      <td>0.342402</td>\n",
       "      <td>0.491732</td>\n",
       "      <td>2.349575</td>\n",
       "      <td>0.196875</td>\n",
       "      <td>0.271020</td>\n",
       "      <td>0.230466</td>\n",
       "      <td>0.226504</td>\n",
       "      <td>0.406071</td>\n",
       "      <td>0.143887</td>\n",
       "      <td>0.166699</td>\n",
       "    </tr>\n",
       "    <tr>\n",
       "      <th>567</th>\n",
       "      <td>927241</td>\n",
       "      <td>1</td>\n",
       "      <td>0.533449</td>\n",
       "      <td>0.547704</td>\n",
       "      <td>0.549611</td>\n",
       "      <td>0.398489</td>\n",
       "      <td>0.491609</td>\n",
       "      <td>0.655418</td>\n",
       "      <td>0.686114</td>\n",
       "      <td>0.629556</td>\n",
       "      <td>...</td>\n",
       "      <td>0.525580</td>\n",
       "      <td>0.598090</td>\n",
       "      <td>3.511479</td>\n",
       "      <td>0.337495</td>\n",
       "      <td>0.514140</td>\n",
       "      <td>0.678225</td>\n",
       "      <td>0.624800</td>\n",
       "      <td>0.758877</td>\n",
       "      <td>0.422277</td>\n",
       "      <td>0.390149</td>\n",
       "    </tr>\n",
       "    <tr>\n",
       "      <th>568</th>\n",
       "      <td>92751</td>\n",
       "      <td>0</td>\n",
       "      <td>0.077273</td>\n",
       "      <td>0.426031</td>\n",
       "      <td>0.067417</td>\n",
       "      <td>0.022935</td>\n",
       "      <td>0.068361</td>\n",
       "      <td>0.070470</td>\n",
       "      <td>0.000000</td>\n",
       "      <td>0.000000</td>\n",
       "      <td>...</td>\n",
       "      <td>0.084327</td>\n",
       "      <td>0.416479</td>\n",
       "      <td>0.994221</td>\n",
       "      <td>0.024299</td>\n",
       "      <td>0.157119</td>\n",
       "      <td>0.034147</td>\n",
       "      <td>0.000000</td>\n",
       "      <td>0.000000</td>\n",
       "      <td>0.241152</td>\n",
       "      <td>0.128596</td>\n",
       "    </tr>\n",
       "  </tbody>\n",
       "</table>\n",
       "<p>569 rows × 32 columns</p>\n",
       "</div>"
      ],
      "text/plain": [
       "           id  diagnosis  radius_mean  texture_mean  perimeter_mean  \\\n",
       "0      842302          1     0.440722      0.066348        0.459114   \n",
       "1      842517          1     0.532384      0.254064        0.511948   \n",
       "2    84300903          1     0.501119      0.342461        0.496778   \n",
       "3    84348301          1     0.207305      0.320362        0.222569   \n",
       "4    84358402          1     0.522436      0.166938        0.523456   \n",
       "..        ...        ...          ...           ...             ...   \n",
       "564    926424          1     0.567556      0.371418        0.559550   \n",
       "565    926682          1     0.516751      0.520270        0.503055   \n",
       "566    926954          1     0.391338      0.515952        0.383265   \n",
       "567    927241          1     0.533449      0.547704        0.549611   \n",
       "568     92751          0     0.077273      0.426031        0.067417   \n",
       "\n",
       "     area_mean  smoothness_mean  compactness_mean  concavity_mean  \\\n",
       "0     0.307026         0.495506          0.656922        0.585950   \n",
       "1     0.419623         0.276900          0.158245        0.169674   \n",
       "2     0.377009         0.438354          0.361917        0.385426   \n",
       "3     0.093993         0.652024          0.672712        0.471337   \n",
       "4     0.409576         0.377955          0.293993        0.386598   \n",
       "..         ...              ...               ...             ...   \n",
       "564   0.472630         0.447446          0.251634        0.476218   \n",
       "565   0.397104         0.361719          0.220304        0.281162   \n",
       "566   0.257518         0.275666          0.217547        0.180627   \n",
       "567   0.398489         0.491609          0.655418        0.686114   \n",
       "568   0.022935         0.068361          0.070470        0.000000   \n",
       "\n",
       "     concave points_mean  ...  radius_worst  texture_worst  perimeter_worst  \\\n",
       "0               0.609261  ...      0.515825       0.154800         3.511479   \n",
       "1               0.290631  ...      0.505257       0.276810         2.993739   \n",
       "2               0.529738  ...      0.466779       0.319353         2.867314   \n",
       "3               0.435719  ...      0.232116       0.338818         1.791098   \n",
       "4               0.431991  ...      0.438868       0.141556         2.861294   \n",
       "..                   ...  ...           ...            ...              ...   \n",
       "564             0.575298  ...      0.517722       0.336812         3.140231   \n",
       "565             0.405525  ...      0.470030       0.574611         2.917483   \n",
       "566             0.219599  ...      0.342402       0.491732         2.349575   \n",
       "567             0.629556  ...      0.525580       0.598090         3.511479   \n",
       "568             0.000000  ...      0.084327       0.416479         0.994221   \n",
       "\n",
       "     area_worst  smoothness_worst  compactness_worst  concavity_worst  \\\n",
       "0      0.377441          0.500818           0.515936         0.473842   \n",
       "1      0.364731          0.318121           0.132050         0.160809   \n",
       "2      0.314899          0.416131           0.322711         0.299787   \n",
       "3      0.084642          0.727287           0.676783         0.457202   \n",
       "4      0.287864          0.382826           0.146797         0.266241   \n",
       "..          ...               ...                ...              ...   \n",
       "564    0.379055          0.399954           0.151846         0.273363   \n",
       "565    0.319337          0.283866           0.136538         0.213991   \n",
       "566    0.196875          0.271020           0.230466         0.226504   \n",
       "567    0.337495          0.514140           0.678225         0.624800   \n",
       "568    0.024299          0.157119           0.034147         0.000000   \n",
       "\n",
       "     concave points_worst  symmetry_worst  fractal_dimension_worst  \n",
       "0                0.760023        0.498838                 0.365267  \n",
       "1                0.532646        0.223129                 0.219488  \n",
       "2                0.695876        0.351674                 0.212462  \n",
       "3                0.737400        0.802252                 0.629210  \n",
       "4                0.465349        0.165634                 0.159771  \n",
       "..                    ...             ...                      ...  \n",
       "564              0.634593        0.120353                 0.132304  \n",
       "565              0.466208        0.196616                 0.108983  \n",
       "566              0.406071        0.143887                 0.166699  \n",
       "567              0.758877        0.422277                 0.390149  \n",
       "568              0.000000        0.241152                 0.128596  \n",
       "\n",
       "[569 rows x 32 columns]"
      ]
     },
     "execution_count": 80,
     "metadata": {},
     "output_type": "execute_result"
    }
   ],
   "source": [
    "# Normalised dataset\n",
    "data = pd.read_csv('data.csv')\n",
    "\n",
    "# Map diagnosis to 0 and 1\n",
    "data['diagnosis'] = data['diagnosis'].map({'M':1,'B':0})\n",
    "data"
   ]
  },
  {
   "cell_type": "code",
   "execution_count": 81,
   "id": "650b3076",
   "metadata": {},
   "outputs": [],
   "source": [
    "# X is input data,, y is output data\n",
    "X = data.iloc[:,2:]\n",
    "y = data.iloc[:, 1]"
   ]
  },
  {
   "cell_type": "code",
   "execution_count": 84,
   "id": "c2b251ab",
   "metadata": {},
   "outputs": [],
   "source": [
    "# sk-learn function that creates variables for traing and testing\n",
    "# Also splits dataset into 70% training, 30% testing\n",
    "\n",
    "X_train, X_test, y_train, y_test = train_test_split(X, y, test_size = 0.3, random_state = 0)"
   ]
  },
  {
   "cell_type": "code",
   "execution_count": 85,
   "id": "fb98ccaf",
   "metadata": {},
   "outputs": [],
   "source": [
    "# Keras function where the hyperparameters of network are set\n",
    "classifier = Sequential()\n",
    "classifier.add(Dense(units = 25, activation = 'sigmoid', input_dim=30))\n",
    "classifier.add(Dense(units = 1, activation = 'sigmoid'))"
   ]
  },
  {
   "cell_type": "code",
   "execution_count": 86,
   "id": "d3dc76d7",
   "metadata": {},
   "outputs": [],
   "source": [
    "# Defines optimiser, loss function and metrics\n",
    "classifier.compile(optimizer='adam', loss='mean_squared_error', metrics=['accuracy'])"
   ]
  },
  {
   "cell_type": "code",
   "execution_count": 87,
   "id": "ed223fc1",
   "metadata": {
    "scrolled": true
   },
   "outputs": [
    {
     "name": "stdout",
     "output_type": "stream",
     "text": [
      "Epoch 1/100\n",
      "20/20 [==============================] - 0s 5ms/step - loss: 0.2337 - accuracy: 0.6256\n",
      "Epoch 2/100\n",
      "15/20 [=====================>........] - ETA: 0s - loss: 0.2260 - accuracy: 0.6333"
     ]
    },
    {
     "name": "stderr",
     "output_type": "stream",
     "text": [
      "2022-03-03 21:19:02.582120: I tensorflow/core/grappler/optimizers/custom_graph_optimizer_registry.cc:112] Plugin optimizer for device_type GPU is enabled.\n"
     ]
    },
    {
     "name": "stdout",
     "output_type": "stream",
     "text": [
      "20/20 [==============================] - 0s 4ms/step - loss: 0.2257 - accuracy: 0.6281\n",
      "Epoch 3/100\n",
      "20/20 [==============================] - 0s 4ms/step - loss: 0.2168 - accuracy: 0.6307\n",
      "Epoch 4/100\n",
      "20/20 [==============================] - 0s 4ms/step - loss: 0.2093 - accuracy: 0.6382\n",
      "Epoch 5/100\n",
      "20/20 [==============================] - 0s 4ms/step - loss: 0.2019 - accuracy: 0.6884\n",
      "Epoch 6/100\n",
      "20/20 [==============================] - 0s 4ms/step - loss: 0.1949 - accuracy: 0.7186\n",
      "Epoch 7/100\n",
      "20/20 [==============================] - 0s 4ms/step - loss: 0.1876 - accuracy: 0.7362\n",
      "Epoch 8/100\n",
      "20/20 [==============================] - 0s 4ms/step - loss: 0.1811 - accuracy: 0.7688\n",
      "Epoch 9/100\n",
      "20/20 [==============================] - 0s 4ms/step - loss: 0.1750 - accuracy: 0.8241\n",
      "Epoch 10/100\n",
      "20/20 [==============================] - 0s 4ms/step - loss: 0.1685 - accuracy: 0.8442\n",
      "Epoch 11/100\n",
      "20/20 [==============================] - 0s 4ms/step - loss: 0.1628 - accuracy: 0.8518\n",
      "Epoch 12/100\n",
      "20/20 [==============================] - 0s 4ms/step - loss: 0.1572 - accuracy: 0.8668\n",
      "Epoch 13/100\n",
      "20/20 [==============================] - 0s 4ms/step - loss: 0.1517 - accuracy: 0.8693\n",
      "Epoch 14/100\n",
      "20/20 [==============================] - 0s 4ms/step - loss: 0.1467 - accuracy: 0.8719\n",
      "Epoch 15/100\n",
      "20/20 [==============================] - 0s 4ms/step - loss: 0.1418 - accuracy: 0.8769\n",
      "Epoch 16/100\n",
      "20/20 [==============================] - 0s 4ms/step - loss: 0.1372 - accuracy: 0.9045\n",
      "Epoch 17/100\n",
      "20/20 [==============================] - 0s 4ms/step - loss: 0.1333 - accuracy: 0.8819\n",
      "Epoch 18/100\n",
      "20/20 [==============================] - 0s 4ms/step - loss: 0.1291 - accuracy: 0.9095\n",
      "Epoch 19/100\n",
      "20/20 [==============================] - 0s 4ms/step - loss: 0.1253 - accuracy: 0.9045\n",
      "Epoch 20/100\n",
      "20/20 [==============================] - 0s 4ms/step - loss: 0.1206 - accuracy: 0.9196\n",
      "Epoch 21/100\n",
      "20/20 [==============================] - 0s 4ms/step - loss: 0.1166 - accuracy: 0.9171\n",
      "Epoch 22/100\n",
      "20/20 [==============================] - 0s 4ms/step - loss: 0.1133 - accuracy: 0.9121\n",
      "Epoch 23/100\n",
      "20/20 [==============================] - 0s 4ms/step - loss: 0.1099 - accuracy: 0.9196\n",
      "Epoch 24/100\n",
      "20/20 [==============================] - 0s 4ms/step - loss: 0.1066 - accuracy: 0.9246\n",
      "Epoch 25/100\n",
      "20/20 [==============================] - 0s 4ms/step - loss: 0.1036 - accuracy: 0.9246\n",
      "Epoch 26/100\n",
      "20/20 [==============================] - 0s 4ms/step - loss: 0.1009 - accuracy: 0.9246\n",
      "Epoch 27/100\n",
      "20/20 [==============================] - 0s 4ms/step - loss: 0.0979 - accuracy: 0.9347\n",
      "Epoch 28/100\n",
      "20/20 [==============================] - 0s 4ms/step - loss: 0.0954 - accuracy: 0.9347\n",
      "Epoch 29/100\n",
      "20/20 [==============================] - 0s 4ms/step - loss: 0.0928 - accuracy: 0.9372\n",
      "Epoch 30/100\n",
      "20/20 [==============================] - 0s 4ms/step - loss: 0.0906 - accuracy: 0.9422\n",
      "Epoch 31/100\n",
      "20/20 [==============================] - 0s 4ms/step - loss: 0.0884 - accuracy: 0.9372\n",
      "Epoch 32/100\n",
      "20/20 [==============================] - 0s 4ms/step - loss: 0.0861 - accuracy: 0.9397\n",
      "Epoch 33/100\n",
      "20/20 [==============================] - 0s 4ms/step - loss: 0.0841 - accuracy: 0.9422\n",
      "Epoch 34/100\n",
      "20/20 [==============================] - 0s 4ms/step - loss: 0.0820 - accuracy: 0.9422\n",
      "Epoch 35/100\n",
      "20/20 [==============================] - 0s 4ms/step - loss: 0.0804 - accuracy: 0.9422\n",
      "Epoch 36/100\n",
      "20/20 [==============================] - 0s 4ms/step - loss: 0.0786 - accuracy: 0.9422\n",
      "Epoch 37/100\n",
      "20/20 [==============================] - 0s 4ms/step - loss: 0.0768 - accuracy: 0.9422\n",
      "Epoch 38/100\n",
      "20/20 [==============================] - 0s 4ms/step - loss: 0.0752 - accuracy: 0.9397\n",
      "Epoch 39/100\n",
      "20/20 [==============================] - 0s 4ms/step - loss: 0.0738 - accuracy: 0.9422\n",
      "Epoch 40/100\n",
      "20/20 [==============================] - 0s 4ms/step - loss: 0.0726 - accuracy: 0.9447\n",
      "Epoch 41/100\n",
      "20/20 [==============================] - 0s 4ms/step - loss: 0.0710 - accuracy: 0.9447\n",
      "Epoch 42/100\n",
      "20/20 [==============================] - 0s 4ms/step - loss: 0.0695 - accuracy: 0.9447\n",
      "Epoch 43/100\n",
      "20/20 [==============================] - 0s 4ms/step - loss: 0.0688 - accuracy: 0.9422\n",
      "Epoch 44/100\n",
      "20/20 [==============================] - 0s 4ms/step - loss: 0.0673 - accuracy: 0.9497\n",
      "Epoch 45/100\n",
      "20/20 [==============================] - 0s 4ms/step - loss: 0.0661 - accuracy: 0.9472\n",
      "Epoch 46/100\n",
      "20/20 [==============================] - 0s 4ms/step - loss: 0.0649 - accuracy: 0.9472\n",
      "Epoch 47/100\n",
      "20/20 [==============================] - 0s 4ms/step - loss: 0.0640 - accuracy: 0.9523\n",
      "Epoch 48/100\n",
      "20/20 [==============================] - 0s 4ms/step - loss: 0.0628 - accuracy: 0.9472\n",
      "Epoch 49/100\n",
      "20/20 [==============================] - 0s 4ms/step - loss: 0.0620 - accuracy: 0.9472\n",
      "Epoch 50/100\n",
      "20/20 [==============================] - 0s 4ms/step - loss: 0.0610 - accuracy: 0.9497\n",
      "Epoch 51/100\n",
      "20/20 [==============================] - 0s 4ms/step - loss: 0.0601 - accuracy: 0.9472\n",
      "Epoch 52/100\n",
      "20/20 [==============================] - 0s 4ms/step - loss: 0.0592 - accuracy: 0.9523\n",
      "Epoch 53/100\n",
      "20/20 [==============================] - 0s 4ms/step - loss: 0.0583 - accuracy: 0.9523\n",
      "Epoch 54/100\n",
      "20/20 [==============================] - 0s 4ms/step - loss: 0.0575 - accuracy: 0.9523\n",
      "Epoch 55/100\n",
      "20/20 [==============================] - 0s 4ms/step - loss: 0.0571 - accuracy: 0.9497\n",
      "Epoch 56/100\n",
      "20/20 [==============================] - 0s 4ms/step - loss: 0.0561 - accuracy: 0.9523\n",
      "Epoch 57/100\n",
      "20/20 [==============================] - 0s 4ms/step - loss: 0.0553 - accuracy: 0.9573\n",
      "Epoch 58/100\n",
      "20/20 [==============================] - 0s 4ms/step - loss: 0.0546 - accuracy: 0.9548\n",
      "Epoch 59/100\n",
      "20/20 [==============================] - 0s 4ms/step - loss: 0.0539 - accuracy: 0.9548\n",
      "Epoch 60/100\n",
      "20/20 [==============================] - 0s 4ms/step - loss: 0.0536 - accuracy: 0.9497\n",
      "Epoch 61/100\n",
      "20/20 [==============================] - 0s 4ms/step - loss: 0.0526 - accuracy: 0.9598\n",
      "Epoch 62/100\n",
      "20/20 [==============================] - 0s 4ms/step - loss: 0.0521 - accuracy: 0.9573\n",
      "Epoch 63/100\n",
      "20/20 [==============================] - 0s 4ms/step - loss: 0.0515 - accuracy: 0.9598\n",
      "Epoch 64/100\n",
      "20/20 [==============================] - 0s 4ms/step - loss: 0.0510 - accuracy: 0.9598\n",
      "Epoch 65/100\n",
      "20/20 [==============================] - 0s 4ms/step - loss: 0.0510 - accuracy: 0.9497\n",
      "Epoch 66/100\n",
      "20/20 [==============================] - 0s 4ms/step - loss: 0.0497 - accuracy: 0.9648\n",
      "Epoch 67/100\n",
      "20/20 [==============================] - 0s 4ms/step - loss: 0.0500 - accuracy: 0.9648\n",
      "Epoch 68/100\n",
      "20/20 [==============================] - 0s 4ms/step - loss: 0.0497 - accuracy: 0.9497\n",
      "Epoch 69/100\n",
      "20/20 [==============================] - 0s 4ms/step - loss: 0.0483 - accuracy: 0.9648\n",
      "Epoch 70/100\n",
      "20/20 [==============================] - 0s 4ms/step - loss: 0.0479 - accuracy: 0.9648\n",
      "Epoch 71/100\n",
      "20/20 [==============================] - 0s 4ms/step - loss: 0.0473 - accuracy: 0.9623\n",
      "Epoch 72/100\n",
      "20/20 [==============================] - 0s 4ms/step - loss: 0.0468 - accuracy: 0.9623\n",
      "Epoch 73/100\n",
      "20/20 [==============================] - 0s 4ms/step - loss: 0.0464 - accuracy: 0.9623\n",
      "Epoch 74/100\n",
      "20/20 [==============================] - 0s 4ms/step - loss: 0.0461 - accuracy: 0.9598\n",
      "Epoch 75/100\n",
      "20/20 [==============================] - 0s 4ms/step - loss: 0.0455 - accuracy: 0.9598\n",
      "Epoch 76/100\n",
      "20/20 [==============================] - 0s 4ms/step - loss: 0.0451 - accuracy: 0.9623\n",
      "Epoch 77/100\n",
      "20/20 [==============================] - 0s 4ms/step - loss: 0.0447 - accuracy: 0.9623\n",
      "Epoch 78/100\n",
      "20/20 [==============================] - 0s 4ms/step - loss: 0.0443 - accuracy: 0.9623\n",
      "Epoch 79/100\n",
      "20/20 [==============================] - 0s 4ms/step - loss: 0.0440 - accuracy: 0.9623\n",
      "Epoch 80/100\n",
      "20/20 [==============================] - 0s 4ms/step - loss: 0.0436 - accuracy: 0.9698\n",
      "Epoch 81/100\n",
      "20/20 [==============================] - 0s 4ms/step - loss: 0.0432 - accuracy: 0.9648\n",
      "Epoch 82/100\n",
      "20/20 [==============================] - 0s 4ms/step - loss: 0.0428 - accuracy: 0.9623\n",
      "Epoch 83/100\n",
      "20/20 [==============================] - 0s 4ms/step - loss: 0.0424 - accuracy: 0.9623\n",
      "Epoch 84/100\n"
     ]
    },
    {
     "name": "stdout",
     "output_type": "stream",
     "text": [
      "20/20 [==============================] - 0s 4ms/step - loss: 0.0422 - accuracy: 0.9698\n",
      "Epoch 85/100\n",
      "20/20 [==============================] - 0s 4ms/step - loss: 0.0418 - accuracy: 0.9623\n",
      "Epoch 86/100\n",
      "20/20 [==============================] - 0s 4ms/step - loss: 0.0415 - accuracy: 0.9648\n",
      "Epoch 87/100\n",
      "20/20 [==============================] - 0s 4ms/step - loss: 0.0411 - accuracy: 0.9698\n",
      "Epoch 88/100\n",
      "20/20 [==============================] - 0s 4ms/step - loss: 0.0409 - accuracy: 0.9623\n",
      "Epoch 89/100\n",
      "20/20 [==============================] - 0s 4ms/step - loss: 0.0404 - accuracy: 0.9673\n",
      "Epoch 90/100\n",
      "20/20 [==============================] - 0s 4ms/step - loss: 0.0402 - accuracy: 0.9698\n",
      "Epoch 91/100\n",
      "20/20 [==============================] - 0s 4ms/step - loss: 0.0402 - accuracy: 0.9648\n",
      "Epoch 92/100\n",
      "20/20 [==============================] - 0s 4ms/step - loss: 0.0395 - accuracy: 0.9673\n",
      "Epoch 93/100\n",
      "20/20 [==============================] - 0s 4ms/step - loss: 0.0393 - accuracy: 0.9724\n",
      "Epoch 94/100\n",
      "20/20 [==============================] - 0s 4ms/step - loss: 0.0390 - accuracy: 0.9774\n",
      "Epoch 95/100\n",
      "20/20 [==============================] - 0s 4ms/step - loss: 0.0387 - accuracy: 0.9673\n",
      "Epoch 96/100\n",
      "20/20 [==============================] - 0s 4ms/step - loss: 0.0386 - accuracy: 0.9673\n",
      "Epoch 97/100\n",
      "20/20 [==============================] - 0s 4ms/step - loss: 0.0382 - accuracy: 0.9673\n",
      "Epoch 98/100\n",
      "20/20 [==============================] - 0s 4ms/step - loss: 0.0378 - accuracy: 0.9698\n",
      "Epoch 99/100\n",
      "20/20 [==============================] - 0s 4ms/step - loss: 0.0380 - accuracy: 0.9698\n",
      "Epoch 100/100\n",
      "20/20 [==============================] - 0s 4ms/step - loss: 0.0374 - accuracy: 0.9724\n"
     ]
    },
    {
     "data": {
      "text/plain": [
       "<tensorflow.python.keras.callbacks.History at 0x2886280a0>"
      ]
     },
     "execution_count": 87,
     "metadata": {},
     "output_type": "execute_result"
    }
   ],
   "source": [
    "# starts the training\n",
    "classifier.fit(X_train, y_train, batch_size = 20, epochs = 100)"
   ]
  },
  {
   "cell_type": "code",
   "execution_count": 92,
   "id": "00545ba7",
   "metadata": {},
   "outputs": [
    {
     "name": "stdout",
     "output_type": "stream",
     "text": [
      " 85/171 [=============>................] - ETA: 0s - loss: 0.0374 - accuracy: 0.9529"
     ]
    },
    {
     "name": "stderr",
     "output_type": "stream",
     "text": [
      "2022-03-03 21:19:10.456229: I tensorflow/core/grappler/optimizers/custom_graph_optimizer_registry.cc:112] Plugin optimizer for device_type GPU is enabled.\n"
     ]
    },
    {
     "name": "stdout",
     "output_type": "stream",
     "text": [
      "171/171 [==============================] - 0s 2ms/step - loss: 0.0444 - accuracy: 0.9474\n"
     ]
    }
   ],
   "source": [
    "# Starts the testing\n",
    "results = classifier.evaluate(X_test, y_test, batch_size=1)"
   ]
  },
  {
   "cell_type": "code",
   "execution_count": 94,
   "id": "efee6cff",
   "metadata": {},
   "outputs": [
    {
     "name": "stdout",
     "output_type": "stream",
     "text": [
      "Accuracy: 94.73684430122375 %\n",
      "Mean Squared Error 0.044353414326906204\n"
     ]
    }
   ],
   "source": [
    "# Accuracy and MSE\n",
    "print(\"Accuracy:\", results[1]*100,\"%\")\n",
    "print(\"Mean Squared Error\", results[0])"
   ]
  },
  {
   "cell_type": "code",
   "execution_count": 95,
   "id": "7d0ebc69",
   "metadata": {},
   "outputs": [
    {
     "name": "stderr",
     "output_type": "stream",
     "text": [
      "2022-03-03 21:19:10.820017: I tensorflow/core/grappler/optimizers/custom_graph_optimizer_registry.cc:112] Plugin optimizer for device_type GPU is enabled.\n"
     ]
    }
   ],
   "source": [
    "# Prediciton\n",
    "predict = classifier.predict(X_test)\n",
    "prediction = (predict > 0.5).astype(\"int32\")"
   ]
  },
  {
   "cell_type": "code",
   "execution_count": 96,
   "id": "dbf0e811",
   "metadata": {},
   "outputs": [
    {
     "data": {
      "text/plain": [
       "array([[102,   6],\n",
       "       [  3,  60]])"
      ]
     },
     "execution_count": 96,
     "metadata": {},
     "output_type": "execute_result"
    }
   ],
   "source": [
    "# Confusion Matrix\n",
    "matrix = confusion_matrix(y_test, prediction)\n",
    "matrix "
   ]
  },
  {
   "cell_type": "code",
   "execution_count": 97,
   "id": "2f72c66b",
   "metadata": {},
   "outputs": [],
   "source": [
    "TN, FP, FN, TP = confusion_matrix(list(y_test), list(prediction), labels=[0, 1]).ravel()"
   ]
  },
  {
   "cell_type": "code",
   "execution_count": 98,
   "id": "d4805d8a",
   "metadata": {},
   "outputs": [
    {
     "name": "stdout",
     "output_type": "stream",
     "text": [
      "Accuracy 94.73684210526315 %\n",
      "Precision 90.9090909090909 %\n"
     ]
    }
   ],
   "source": [
    "# Accuracy and Precision\n",
    "accuracy = accuracy_score(y_test, prediction)\n",
    "print('Accuracy', accuracy *100, '%')\n",
    "\n",
    "precision = precision_score(y_test, prediction)\n",
    "print('Precision', precision *100, '%')"
   ]
  },
  {
   "cell_type": "code",
   "execution_count": 99,
   "id": "49e3abd5",
   "metadata": {},
   "outputs": [
    {
     "name": "stdout",
     "output_type": "stream",
     "text": [
      "True Positive Rate 95.23809523809523 %\n",
      "False Negative 4.761904761904762 %\n",
      "True Negative Rate 94.44444444444444 %\n",
      "False Positive Rate 5.555555555555555 %\n"
     ]
    }
   ],
   "source": [
    "# Confusion Matrix Performance Indices\n",
    "print(\"True Positive Rate\", (TP/(TP+FN)*100), '%')\n",
    "print(\"False Negative\", (FN/(TP+FN)*100), '%')\n",
    "\n",
    "print(\"True Negative Rate\",(TN/(TN+FP)*100), '%')\n",
    "print(\"False Positive Rate\", (FP/(FP+TN)*100), '%')"
   ]
  },
  {
   "cell_type": "code",
   "execution_count": null,
   "id": "4c63b1e8",
   "metadata": {},
   "outputs": [],
   "source": [
    "# Updated Neural Network Classifier"
   ]
  },
  {
   "cell_type": "code",
   "execution_count": 100,
   "id": "b46d6508",
   "metadata": {},
   "outputs": [],
   "source": [
    "X_train2, X_test2, y_train2, y_test2 = train_test_split(X,y, test_size=0.30)"
   ]
  },
  {
   "cell_type": "code",
   "execution_count": 101,
   "id": "f0a77e71",
   "metadata": {},
   "outputs": [],
   "source": [
    "# Added Hidden Layer and new activation functions\n",
    "classifier = Sequential()\n",
    "classifier.add(Dense(units = 25, activation = 'softmax', input_dim=30))\n",
    "classifier.add(Dense(units = 15, activation = 'softmax'))\n",
    "classifier.add(Dense(units = 1, activation = 'sigmoid'))"
   ]
  },
  {
   "cell_type": "code",
   "execution_count": 102,
   "id": "6981f1f0",
   "metadata": {},
   "outputs": [],
   "source": [
    "classifier.compile(optimizer='adam', loss='mean_squared_error', metrics=['accuracy'])"
   ]
  },
  {
   "cell_type": "code",
   "execution_count": 103,
   "id": "b2252983",
   "metadata": {
    "scrolled": false
   },
   "outputs": [
    {
     "name": "stdout",
     "output_type": "stream",
     "text": [
      "Epoch 1/40\n",
      "  1/398 [..............................] - ETA: 47s - loss: 0.2392 - accuracy: 1.0000"
     ]
    },
    {
     "name": "stderr",
     "output_type": "stream",
     "text": [
      "2022-03-03 21:19:10.964293: I tensorflow/core/grappler/optimizers/custom_graph_optimizer_registry.cc:112] Plugin optimizer for device_type GPU is enabled.\n"
     ]
    },
    {
     "name": "stdout",
     "output_type": "stream",
     "text": [
      "398/398 [==============================] - 1s 3ms/step - loss: 0.2443 - accuracy: 0.6055\n",
      "Epoch 2/40\n",
      "398/398 [==============================] - 1s 3ms/step - loss: 0.2348 - accuracy: 0.6055\n",
      "Epoch 3/40\n",
      "398/398 [==============================] - 1s 3ms/step - loss: 0.2216 - accuracy: 0.6055\n",
      "Epoch 4/40\n",
      "398/398 [==============================] - 1s 3ms/step - loss: 0.2030 - accuracy: 0.6055\n",
      "Epoch 5/40\n",
      "398/398 [==============================] - 1s 3ms/step - loss: 0.1789 - accuracy: 0.7764\n",
      "Epoch 6/40\n",
      "398/398 [==============================] - 2s 4ms/step - loss: 0.1521 - accuracy: 0.9020\n",
      "Epoch 7/40\n",
      "398/398 [==============================] - 1s 3ms/step - loss: 0.1268 - accuracy: 0.9347\n",
      "Epoch 8/40\n",
      "398/398 [==============================] - 1s 3ms/step - loss: 0.1055 - accuracy: 0.9347\n",
      "Epoch 9/40\n",
      "398/398 [==============================] - 1s 3ms/step - loss: 0.0884 - accuracy: 0.9447\n",
      "Epoch 10/40\n",
      "398/398 [==============================] - 1s 3ms/step - loss: 0.0749 - accuracy: 0.9447\n",
      "Epoch 11/40\n",
      "398/398 [==============================] - 1s 3ms/step - loss: 0.0655 - accuracy: 0.9523\n",
      "Epoch 12/40\n",
      "398/398 [==============================] - 1s 3ms/step - loss: 0.0581 - accuracy: 0.9523\n",
      "Epoch 13/40\n",
      "398/398 [==============================] - 1s 3ms/step - loss: 0.0519 - accuracy: 0.9548\n",
      "Epoch 14/40\n",
      "398/398 [==============================] - 1s 3ms/step - loss: 0.0475 - accuracy: 0.9598\n",
      "Epoch 15/40\n",
      "398/398 [==============================] - 1s 3ms/step - loss: 0.0442 - accuracy: 0.9648\n",
      "Epoch 16/40\n",
      "398/398 [==============================] - 1s 3ms/step - loss: 0.0404 - accuracy: 0.9573\n",
      "Epoch 17/40\n",
      "398/398 [==============================] - 1s 3ms/step - loss: 0.0384 - accuracy: 0.9573\n",
      "Epoch 18/40\n",
      "398/398 [==============================] - 1s 3ms/step - loss: 0.0370 - accuracy: 0.9698\n",
      "Epoch 19/40\n",
      "398/398 [==============================] - 1s 3ms/step - loss: 0.0348 - accuracy: 0.9673\n",
      "Epoch 20/40\n",
      "398/398 [==============================] - 1s 3ms/step - loss: 0.0333 - accuracy: 0.9623\n",
      "Epoch 21/40\n",
      "398/398 [==============================] - 1s 3ms/step - loss: 0.0322 - accuracy: 0.9698\n",
      "Epoch 22/40\n",
      "398/398 [==============================] - 1s 3ms/step - loss: 0.0304 - accuracy: 0.9724\n",
      "Epoch 23/40\n",
      "398/398 [==============================] - 1s 3ms/step - loss: 0.0291 - accuracy: 0.9749\n",
      "Epoch 24/40\n",
      "398/398 [==============================] - 1s 3ms/step - loss: 0.0283 - accuracy: 0.9724\n",
      "Epoch 25/40\n",
      "398/398 [==============================] - 1s 3ms/step - loss: 0.0280 - accuracy: 0.9724\n",
      "Epoch 26/40\n",
      "398/398 [==============================] - 1s 3ms/step - loss: 0.0270 - accuracy: 0.9749\n",
      "Epoch 27/40\n",
      "398/398 [==============================] - 1s 3ms/step - loss: 0.0264 - accuracy: 0.9673\n",
      "Epoch 28/40\n",
      "398/398 [==============================] - 1s 3ms/step - loss: 0.0253 - accuracy: 0.9749\n",
      "Epoch 29/40\n",
      "398/398 [==============================] - 1s 3ms/step - loss: 0.0246 - accuracy: 0.9724\n",
      "Epoch 30/40\n",
      "398/398 [==============================] - 1s 3ms/step - loss: 0.0242 - accuracy: 0.9749\n",
      "Epoch 31/40\n",
      "398/398 [==============================] - 1s 3ms/step - loss: 0.0235 - accuracy: 0.9648\n",
      "Epoch 32/40\n",
      "398/398 [==============================] - 1s 3ms/step - loss: 0.0234 - accuracy: 0.9698\n",
      "Epoch 33/40\n",
      "398/398 [==============================] - 1s 3ms/step - loss: 0.0222 - accuracy: 0.9799\n",
      "Epoch 34/40\n",
      "398/398 [==============================] - 1s 3ms/step - loss: 0.0212 - accuracy: 0.9824\n",
      "Epoch 35/40\n",
      "398/398 [==============================] - 1s 3ms/step - loss: 0.0219 - accuracy: 0.9724\n",
      "Epoch 36/40\n",
      "398/398 [==============================] - 1s 3ms/step - loss: 0.0206 - accuracy: 0.9774\n",
      "Epoch 37/40\n",
      "398/398 [==============================] - 1s 3ms/step - loss: 0.0207 - accuracy: 0.9774\n",
      "Epoch 38/40\n",
      "398/398 [==============================] - 1s 3ms/step - loss: 0.0199 - accuracy: 0.9774\n",
      "Epoch 39/40\n",
      "398/398 [==============================] - 1s 3ms/step - loss: 0.0195 - accuracy: 0.9799\n",
      "Epoch 40/40\n",
      "398/398 [==============================] - 1s 3ms/step - loss: 0.0183 - accuracy: 0.9799\n"
     ]
    },
    {
     "data": {
      "text/plain": [
       "<tensorflow.python.keras.callbacks.History at 0x28adafee0>"
      ]
     },
     "execution_count": 103,
     "metadata": {},
     "output_type": "execute_result"
    }
   ],
   "source": [
    "# Updated batch size and epoch\n",
    "classifier.fit(X_train2, y_train2, batch_size = 1, epochs = 40)"
   ]
  },
  {
   "cell_type": "code",
   "execution_count": 104,
   "id": "8271033b",
   "metadata": {},
   "outputs": [
    {
     "name": "stdout",
     "output_type": "stream",
     "text": [
      " 76/171 [============>.................] - ETA: 0s - loss: 0.0074 - accuracy: 1.0000"
     ]
    },
    {
     "name": "stderr",
     "output_type": "stream",
     "text": [
      "2022-03-03 21:20:02.816282: I tensorflow/core/grappler/optimizers/custom_graph_optimizer_registry.cc:112] Plugin optimizer for device_type GPU is enabled.\n"
     ]
    },
    {
     "name": "stdout",
     "output_type": "stream",
     "text": [
      "171/171 [==============================] - 0s 2ms/step - loss: 0.0182 - accuracy: 0.9883\n"
     ]
    }
   ],
   "source": [
    "# Testing\n",
    "results2 = classifier.evaluate(X_test2, y_test2, batch_size=1)"
   ]
  },
  {
   "cell_type": "code",
   "execution_count": 105,
   "id": "535701fc",
   "metadata": {},
   "outputs": [
    {
     "name": "stdout",
     "output_type": "stream",
     "text": [
      "Mean Squared Error 0.018236489966511726\n"
     ]
    }
   ],
   "source": [
    "# MSE\n",
    "print(\"Mean Squared Error\", results2[0])"
   ]
  },
  {
   "cell_type": "code",
   "execution_count": 106,
   "id": "dc6c30fd",
   "metadata": {},
   "outputs": [
    {
     "name": "stderr",
     "output_type": "stream",
     "text": [
      "2022-03-03 21:20:03.230410: I tensorflow/core/grappler/optimizers/custom_graph_optimizer_registry.cc:112] Plugin optimizer for device_type GPU is enabled.\n"
     ]
    }
   ],
   "source": [
    "# Prediction\n",
    "predict2 = classifier.predict(X_test2)\n",
    "prediction2 = (predict2 > 0.5).astype(\"int32\")"
   ]
  },
  {
   "cell_type": "code",
   "execution_count": 107,
   "id": "a97f7ea5",
   "metadata": {},
   "outputs": [
    {
     "name": "stdout",
     "output_type": "stream",
     "text": [
      "[[116   0]\n",
      " [  2  53]]\n"
     ]
    }
   ],
   "source": [
    "print(confusion_matrix(y_test2,prediction2))"
   ]
  },
  {
   "cell_type": "code",
   "execution_count": 108,
   "id": "10eb3314",
   "metadata": {},
   "outputs": [],
   "source": [
    "TN, FP, FN, TP = confusion_matrix(list(y_test2), list(prediction2), labels=[0, 1]).ravel()"
   ]
  },
  {
   "cell_type": "code",
   "execution_count": 109,
   "id": "a9003905",
   "metadata": {},
   "outputs": [
    {
     "name": "stdout",
     "output_type": "stream",
     "text": [
      "Accuracy 98.83040935672514 %\n",
      "Precision 100.0 %\n"
     ]
    }
   ],
   "source": [
    "# Accuracy and Precision\n",
    "accuracy = accuracy_score(y_test2, prediction2)\n",
    "print('Accuracy', accuracy *100, '%')\n",
    "\n",
    "precision = precision_score(y_test2, prediction2)\n",
    "print('Precision', precision *100, '%')\n",
    "\n"
   ]
  },
  {
   "cell_type": "code",
   "execution_count": 110,
   "id": "6290b5be",
   "metadata": {},
   "outputs": [
    {
     "name": "stdout",
     "output_type": "stream",
     "text": [
      "True Positive Rate 96.36363636363636 %\n",
      "False Negative 3.6363636363636362 %\n",
      "True Negative Rate 100.0 %\n",
      "False Positive Rate 0.0 %\n"
     ]
    }
   ],
   "source": [
    "# Performance from confusion matrix indices \n",
    "print(\"True Positive Rate\", (TP/(TP+FN)*100), '%')\n",
    "print(\"False Negative\", (FN/(TP+FN)*100), '%')\n",
    "\n",
    "print(\"True Negative Rate\",(TN/(TN+FP)*100), '%')\n",
    "print(\"False Positive Rate\", (FP/(FP+TN)*100), '%')"
   ]
  },
  {
   "cell_type": "code",
   "execution_count": null,
   "id": "bc0d48a6",
   "metadata": {},
   "outputs": [],
   "source": [
    "# Decision Tree Classifier"
   ]
  },
  {
   "cell_type": "code",
   "execution_count": 111,
   "id": "76c4243f",
   "metadata": {},
   "outputs": [],
   "source": [
    "X_train_dt, X_test_dt, y_train_dt, y_test_dt = train_test_split(X,y, test_size=0.30)"
   ]
  },
  {
   "cell_type": "code",
   "execution_count": 112,
   "id": "effc6a92",
   "metadata": {},
   "outputs": [],
   "source": [
    "# Decision Tree training\n",
    "decision_tree = DecisionTreeClassifier().fit(X_train_dt, y_train_dt)"
   ]
  },
  {
   "cell_type": "code",
   "execution_count": 113,
   "id": "2aa36f63",
   "metadata": {},
   "outputs": [],
   "source": [
    "# Decision Tree testing\n",
    "prediction3 = decision_tree.predict(X_test_dt)\n"
   ]
  },
  {
   "cell_type": "code",
   "execution_count": 114,
   "id": "54d64829",
   "metadata": {},
   "outputs": [
    {
     "name": "stdout",
     "output_type": "stream",
     "text": [
      "[[94  7]\n",
      " [ 6 64]]\n"
     ]
    }
   ],
   "source": [
    "# Confusion Matrix\n",
    "print(confusion_matrix(y_test_dt,prediction3))"
   ]
  },
  {
   "cell_type": "code",
   "execution_count": 115,
   "id": "114f186f",
   "metadata": {},
   "outputs": [],
   "source": [
    "TN, FP, FN, TP = confusion_matrix(list(y_test_dt), list(prediction3), labels=[0, 1]).ravel()\n"
   ]
  },
  {
   "cell_type": "code",
   "execution_count": 116,
   "id": "832f379c",
   "metadata": {},
   "outputs": [
    {
     "name": "stdout",
     "output_type": "stream",
     "text": [
      "True Positive Rate 91.42857142857143 %\n",
      "False Negative 8.571428571428571 %\n",
      "True Negative Rate 93.06930693069307 %\n",
      "False Positive Rate 6.9306930693069315 %\n"
     ]
    }
   ],
   "source": [
    "# Confusion Matrix performance Indices\n",
    "print(\"True Positive Rate\", (TP/(TP+FN)*100), '%')\n",
    "print(\"False Negative\", (FN/(TP+FN)*100), '%')\n",
    "\n",
    "print(\"True Negative Rate\",(TN/(TN+FP)*100), '%')\n",
    "print(\"False Positive Rate\", (FP/(FP+TN)*100), '%')"
   ]
  },
  {
   "cell_type": "code",
   "execution_count": 117,
   "id": "0c559503",
   "metadata": {},
   "outputs": [
    {
     "name": "stdout",
     "output_type": "stream",
     "text": [
      "Accuracy 92.39766081871345 %\n",
      "Precision 90.14084507042254 %\n"
     ]
    }
   ],
   "source": [
    "# Accuracy and Precision\n",
    "accuracy = accuracy_score(y_test_dt, prediction3)\n",
    "print('Accuracy', accuracy *100, '%')\n",
    "\n",
    "\n",
    "precision = precision_score(y_test_dt, prediction3)\n",
    "print('Precision', precision *100, '%')\n"
   ]
  }
 ],
 "metadata": {
  "kernelspec": {
   "display_name": "Python 3.9 (tensorflow)",
   "language": "python",
   "name": "tensorflow"
  },
  "language_info": {
   "codemirror_mode": {
    "name": "ipython",
    "version": 3
   },
   "file_extension": ".py",
   "mimetype": "text/x-python",
   "name": "python",
   "nbconvert_exporter": "python",
   "pygments_lexer": "ipython3",
   "version": "3.9.9"
  }
 },
 "nbformat": 4,
 "nbformat_minor": 5
}
